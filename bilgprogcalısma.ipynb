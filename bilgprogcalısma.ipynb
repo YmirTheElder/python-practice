{
 "cells": [
  {
   "cell_type": "code",
   "execution_count": 21,
   "id": "d4d72933",
   "metadata": {},
   "outputs": [
    {
     "name": "stdout",
     "output_type": "stream",
     "text": [
      "the instructor is Ahmet Kara and there are 37 students in the bilgisayar proglamlama\n"
     ]
    }
   ],
   "source": [
    "name = \"Ahmet Kara\"\n",
    "class_no = 37\n",
    "class_name = \"bilgisayar proglamlama\"\n",
    "print (f\"the instructor is {name} and there are {class_no} students in the {class_name}\" )"
   ]
  },
  {
   "cell_type": "code",
   "execution_count": 24,
   "id": "29bc30fd",
   "metadata": {},
   "outputs": [
    {
     "name": "stdout",
     "output_type": "stream",
     "text": [
      "before swap: math students: 17 , english students: 20\n",
      "after swap: math students: 20 , english students: 17\n"
     ]
    }
   ],
   "source": [
    "students_m = 20\n",
    "students_e = 17\n",
    "students_m , students_e = students_e , students_m\n",
    "print (f\"before swap: math students: {students_m} , english students: {students_e}\")\n",
    "print (f\"after swap: math students: {students_e} , english students: {students_m}\")"
   ]
  },
  {
   "cell_type": "code",
   "execution_count": 31,
   "id": "069d8ed7",
   "metadata": {},
   "outputs": [
    {
     "name": "stdout",
     "output_type": "stream",
     "text": [
      "python students: 15, java students: 20, c students:25\n"
     ]
    }
   ],
   "source": [
    "python_s, java_s, c_s = 15,20,25\n",
    "print(f\"python students: {python_s}, java students: {java_s}, c students:{c_s}\")"
   ]
  },
  {
   "cell_type": "code",
   "execution_count": 37,
   "id": "8e717bc0",
   "metadata": {},
   "outputs": [
    {
     "name": "stdout",
     "output_type": "stream",
     "text": [
      "<class 'float'>\n",
      "<class 'int'>\n",
      "<class 'str'>\n",
      "age: 25.56 is of type: <class 'float'>\n",
      "rating: 25 is of type: <class 'int'>\n",
      "course_name: Python for beginners is of type <class 'str'>\n"
     ]
    }
   ],
   "source": [
    "age = 25.56\n",
    "rating = 25\n",
    "course_name = \"Python for beginners\"\n",
    "print(type(age))\n",
    "print(type(rating))\n",
    "print(type(course_name))\n",
    "print(f\"age: {age} is of type: {type(age)}\")\n",
    "print(f\"rating: {rating} is of type: {type(rating)}\")\n",
    "print(f\"course_name: {course_name} is of type {type(course_name)}\")"
   ]
  },
  {
   "cell_type": "code",
   "execution_count": 2,
   "id": "1a3dcdda",
   "metadata": {},
   "outputs": [
    {
     "name": "stdout",
     "output_type": "stream",
     "text": [
      " Nicollo Machiavelli at Skyrim State University says Don't fight in the north or the south fight every battle everywhere always in your mind everyone is your enemy everyone is your friend, live that way and nothing will ever surprise you.\n"
     ]
    }
   ],
   "source": [
    "instructor = \"Nicollo Machiavelli\"\n",
    "academy_name = \"Skyrim State University\"\n",
    "slogan = \"Don't fight in the north or the south fight every battle everywhere always in your mind everyone is your enemy everyone is your friend, live that way and nothing will ever surprise you.\"\n",
    "print(f\" {instructor} at {academy_name} says {slogan}\")"
   ]
  },
  {
   "cell_type": "code",
   "execution_count": 22,
   "id": "a83063d6",
   "metadata": {},
   "outputs": [
    {
     "name": "stdout",
     "output_type": "stream",
     "text": [
      " integer value: 755 <class 'int'>\n",
      "string value: 25 <class 'str'>\n"
     ]
    }
   ],
   "source": [
    "x = 755 \n",
    "print(f\" integer value: {x} {type(x)}\")\n",
    "y = \"25\"\n",
    "print(f\"string value: {y} {type(y)}\")"
   ]
  },
  {
   "cell_type": "code",
   "execution_count": null,
   "id": "230e0907",
   "metadata": {},
   "outputs": [
    {
     "name": "stdout",
     "output_type": "stream",
     "text": [
      "float value: 17.2 integer value: 17\n",
      "integer value: 125 float value 125.0\n"
     ]
    }
   ],
   "source": [
    "# exercise 7\n",
    "num_flo = 17.2\n",
    "num_int = 125\n",
    "con_to_int = int(num_flo)\n",
    "con_to_flo = float(num_int)\n",
    "print(f\"float value: {num_flo} integer value: {con_to_int}\")\n",
    "print(f\"integer value: {num_int} float value {con_to_flo}\")  "
   ]
  },
  {
   "cell_type": "code",
   "execution_count": null,
   "id": "7adbaaa2",
   "metadata": {},
   "outputs": [
    {
     "name": "stdout",
     "output_type": "stream",
     "text": [
      "<class 'bool'>\n",
      "<class 'bool'>\n",
      "true is converting into a integer <class 'int'>\n",
      "false is converting into a integer <class 'int'>\n",
      "1\n",
      "0\n"
     ]
    }
   ],
   "source": [
    "# exercise 8\n",
    "bool_true = True\n",
    "bool_false = False\n",
    "print(f\"{type(bool_true)}\")\n",
    "print(f\"{type(bool_false)}\")\n",
    "int_true = int(bool_true)\n",
    "int_false = int(bool_false)\n",
    "print(f\"true is converting into a integer {type(int_true)}\")\n",
    "print(f\"false is converting into a integer {type(int_false)}\")\n",
    "print(int_true)\n",
    "print(int_false)"
   ]
  },
  {
   "cell_type": "code",
   "execution_count": null,
   "id": "0a542f21",
   "metadata": {},
   "outputs": [
    {
     "name": "stdout",
     "output_type": "stream",
     "text": [
      "List to String: i will fuck your mother\n",
      "String to List: ['i', 'will', 'fuck', 'your', 'mother']\n"
     ]
    }
   ],
   "source": [
    "# exercise 9\n",
    "my_fckin_list = [\"i\", \"will\", \"fuck\", \"your\", \"mother\"]\n",
    "\n",
    "joined_string = \" \".join(my_fckin_list)\n",
    "split_list = joined_string.split(\" \")\n",
    "\n",
    "print(f\"List to String: {joined_string}\")\n",
    "print(f\"String to List: {split_list}\")\n"
   ]
  },
  {
   "cell_type": "code",
   "execution_count": null,
   "id": "fb3f3322",
   "metadata": {},
   "outputs": [
    {
     "name": "stdout",
     "output_type": "stream",
     "text": [
      "erzincan\n",
      "1326\n",
      "ben sana çok şey demek isterdim\n",
      "diyemiyorum çünkü sen benim sabrimlan oynuyorsun\n",
      "bu yüzden seni döveceğim\n"
     ]
    }
   ],
   "source": [
    "# exercise 10\n",
    "benim_sozluk = {\n",
    "    \"ad\": \"emir\" ,\n",
    "    \"yer\": \"ankara\",\n",
    "    \"memleket\": \"erzincan\",\n",
    "    }\n",
    "sozluk_sayi = { \n",
    "    \"atatürk\": 1881,\n",
    "    \"hira\": 610,\n",
    "    \"fetih\": 1326\n",
    "    \"yaş\": 22\n",
    "}\n",
    "sozluk_harf = {\n",
    "    \"yani\": \"ben sana çok şey demek isterdim\",\n",
    "    \"ama\": \"diyemiyorum çünkü sen benim sabrimlan oynuyorsun\",\n",
    "    \"bu\": \"bu yüzden seni döveceğim\"\n",
    "}\n",
    "print(benim_sozluk[\"memleket\"])\n",
    "print(sozluk_sayi[\"fetih\"])\n",
    "print(sozluk_harf[\"yani\"])\n",
    "print(sozluk_harf[\"ama\"])\n",
    "print(sozluk_harf[\"bu\"])"
   ]
  },
  {
   "cell_type": "code",
   "execution_count": null,
   "id": "ff310e0d",
   "metadata": {},
   "outputs": [
    {
     "name": "stdout",
     "output_type": "stream",
     "text": [
      "addition of a+b is 79\n",
      "multiply of a*b is 1350\n",
      "substraction of a-b is -29\n",
      "divide of a/b is 0.46296296296296297\n",
      "2\n",
      "modulo of a%b is 25\n",
      "power of a ^b is 3081487911019577364889564708135883709660962637144621112383902072906494140625\n"
     ]
    }
   ],
   "source": [
    "\n",
    "# Exercise 11 \n",
    "a = 25\n",
    "b = 54  \n",
    "print(f\"addition of a+b is {a+b}\")\n",
    "print(f\"multiply of a*b is {a*b}\")\n",
    "print(f\"substraction of a-b is {a-b}\")\n",
    "print(f\"divide of a/b is {a/b}\")\n",
    "print(b//a)\n",
    "print(f\"modulo of a%b is {a%b}\")\n",
    "print(f\"power of a ^b is {a**b}\")"
   ]
  },
  {
   "cell_type": "code",
   "execution_count": 26,
   "id": "0d0ee756",
   "metadata": {},
   "outputs": [
    {
     "name": "stdout",
     "output_type": "stream",
     "text": [
      "True\n",
      "False\n",
      "False\n"
     ]
    }
   ],
   "source": [
    "# Exercise 12\n",
    "print(f\"{15==15}\")\n",
    "print(f\"{15 < 15}\")\n",
    "print (f\"{15>25}\")"
   ]
  },
  {
   "cell_type": "code",
   "execution_count": null,
   "id": "d5d37c90",
   "metadata": {},
   "outputs": [
    {
     "name": "stdout",
     "output_type": "stream",
     "text": [
      "True\n",
      "False\n"
     ]
    },
    {
     "data": {
      "text/plain": [
       "False"
      ]
     },
     "execution_count": 28,
     "metadata": {},
     "output_type": "execute_result"
    }
   ],
   "source": [
    "#Exercise 13\n",
    "x = 15\n",
    "y = 25\n",
    "print(x < y or y > x)\n",
    "print(x > y and y < x)\n",
    "not(x<y and y>x)\n",
    "\n",
    "\n",
    "\n"
   ]
  },
  {
   "cell_type": "code",
   "execution_count": null,
   "id": "e3fe178a",
   "metadata": {},
   "outputs": [
    {
     "name": "stdout",
     "output_type": "stream",
     "text": [
      "12\n",
      "15\n",
      "13\n",
      "26\n",
      "13.0\n",
      "1.0\n"
     ]
    }
   ],
   "source": [
    "\n",
    "#Exercise 14\n",
    "x = 12\n",
    "print(x)\n",
    "x += 3\n",
    "print(x)\n",
    "x -= 2\n",
    "print(x)\n",
    "x *= 2\n",
    "print(x)\n",
    "x /= 2\n",
    "print(x)\n",
    "x %= 12\n",
    "print(x)"
   ]
  },
  {
   "cell_type": "code",
   "execution_count": null,
   "id": "cbf871de",
   "metadata": {},
   "outputs": [
    {
     "name": "stdout",
     "output_type": "stream",
     "text": [
      " x & y = 0\n",
      " x | y = 14\n",
      " x ^ y = 14\n",
      " ~x -13\n",
      " x >> y = 3\n",
      " x << y = 48\n"
     ]
    }
   ],
   "source": [
    "#Exercise 15\n",
    "x = 12\n",
    "y = 2\n",
    "print(f\" x & y = {x&y}\")\n",
    "print(f\" x | y = {x|y}\")\n",
    "print(f\" x ^ y = { x^y }\")\n",
    "print(f\" ~x {~x}\")\n",
    "print(f\" x >> y = {x>>y}\")\n",
    "print(f\" x << y = {x<<y}\")"
   ]
  },
  {
   "cell_type": "code",
   "execution_count": 12,
   "id": "f3471718",
   "metadata": {},
   "outputs": [
    {
     "name": "stdout",
     "output_type": "stream",
     "text": [
      "5 is odd\n"
     ]
    }
   ],
   "source": [
    "#Exercise 16\n",
    "number = int(input(\"please enter a number : \"))\n",
    "if number % 2 == 0:\n",
    "    print(f\"{number} is even \")\n",
    "else:\n",
    "    print(f\"{number} is odd\")"
   ]
  },
  {
   "cell_type": "code",
   "execution_count": 21,
   "id": "af7de10e",
   "metadata": {},
   "outputs": [
    {
     "name": "stdout",
     "output_type": "stream",
     "text": [
      "y is the biggest number\n"
     ]
    }
   ],
   "source": [
    "#Exercise 17\n",
    "x = int(input(\"x sayısı giriniz : \"))\n",
    "y = int(input(\"y sayısı giriniz : \"))\n",
    "z = int(input(\"z sayısı giriniz : \"))\n",
    "if (x < z) and (y < z): \n",
    "    print(\"z is the biggest number\")\n",
    "elif (z < x) and (y < x):\n",
    "    print(\"x is the biggest number\")\n",
    "else:\n",
    "    print(\"y is the biggest number\")"
   ]
  },
  {
   "cell_type": "code",
   "execution_count": 2,
   "id": "44fc76e2",
   "metadata": {},
   "outputs": [
    {
     "name": "stdout",
     "output_type": "stream",
     "text": [
      "3001 is not a leap year\n"
     ]
    }
   ],
   "source": [
    "#Exercise 18\n",
    "leap = int(input(\"Please enter the year to check if it is a leap year\"))\n",
    "if  (leap >= 100):\n",
    "    if (leap % 4 == 0 and leap % 100 != 0) or (leap % 400 == 0):\n",
    "        print(f\"{leap} is a leap year\")\n",
    "    else:\n",
    "        print(f\"{leap} is not a leap year\") \n",
    "else:\n",
    "    print(\"There is no leap year before 100 in gregorian calendar or you did not use correct set of numbers\")\n",
    "\n"
   ]
  },
  {
   "cell_type": "code",
   "execution_count": 63,
   "id": "aee5e7e6",
   "metadata": {},
   "outputs": [
    {
     "name": "stdout",
     "output_type": "stream",
     "text": [
      "1\n",
      "2\n",
      "3\n",
      "4\n",
      "5\n"
     ]
    }
   ],
   "source": [
    "#Exercise 19\n",
    "number = int(input(\"please enter a number\"))\n",
    "org = number\n",
    "for number in range (1,number,1):\n",
    "    print(number)\n",
    "print(org)    \n"
   ]
  },
  {
   "cell_type": "code",
   "execution_count": 65,
   "id": "67410cae",
   "metadata": {},
   "outputs": [
    {
     "name": "stdout",
     "output_type": "stream",
     "text": [
      "8 was your number\n",
      "2\n",
      "4\n",
      "6\n"
     ]
    }
   ],
   "source": [
    "#Exercise 20 \n",
    "number = int(input(\"Please enter a number\"))\n",
    "print(f\"{number} was your number\")\n",
    "for number in range (1,number,1):\n",
    "    if number % 2 == 0:\n",
    "        print(number)\n",
    "    else: \n",
    "        continue\n",
    "\n",
    " "
   ]
  },
  {
   "cell_type": "code",
   "execution_count": 14,
   "id": "c099d383",
   "metadata": {},
   "outputs": [
    {
     "name": "stdout",
     "output_type": "stream",
     "text": [
      "5 was your number and 15 is sum of numbers from 1 to 5\n"
     ]
    }
   ],
   "source": [
    "#Exercise 21\n",
    "number = int(input(\"please enter a number\"))\n",
    "sumnumb = 0\n",
    "for i in range (1,number +1):\n",
    "    sumnumb += i\n",
    "print(f\"{number} was your number and {sumnumb} is sum of numbers from 1 to {number}\")"
   ]
  },
  {
   "cell_type": "code",
   "execution_count": 39,
   "id": "95dee598",
   "metadata": {},
   "outputs": [
    {
     "name": "stdout",
     "output_type": "stream",
     "text": [
      "120 is the factorial products of the numbers \n"
     ]
    }
   ],
   "source": [
    "#Exercise 22 \n",
    "fact = int(input(\"enter number\"))\n",
    "multi = 1\n",
    "for i in range (1,fact+1):\n",
    "    multi *= i\n",
    "print(f\"{multi} is the factorial products of the numbers \")"
   ]
  },
  {
   "cell_type": "code",
   "execution_count": 13,
   "id": "14292793",
   "metadata": {},
   "outputs": [
    {
     "name": "stdout",
     "output_type": "stream",
     "text": [
      "reversed number 4321 \n"
     ]
    }
   ],
   "source": [
    "#Exercise 23\n",
    "rev = (input(\"enter number\"))\n",
    "reversed_rev = rev[::-1]\n",
    "print(f\"reversed number {reversed_rev} \")\n",
    "\n"
   ]
  },
  {
   "cell_type": "code",
   "execution_count": 31,
   "id": "4dec36e7",
   "metadata": {},
   "outputs": [
    {
     "name": "stdout",
     "output_type": "stream",
     "text": [
      "2 x 1 = 2\n",
      "2 x 2 = 4\n",
      "2 x 3 = 6\n",
      "2 x 4 = 8\n",
      "2 x 5 = 10\n",
      "2 x 6 = 12\n",
      "2 x 7 = 14\n",
      "2 x 8 = 16\n",
      "2 x 9 = 18\n",
      "2 x 10 = 20\n"
     ]
    }
   ],
   "source": [
    "#Exercise 24\n",
    "number = int(input(\"enter a number\"))\n",
    "for i in range (1,10+1):\n",
    "        mul = number * i\n",
    "        print(f\"{number} x {i} = {mul}\") \n",
    "    "
   ]
  },
  {
   "cell_type": "code",
   "execution_count": null,
   "id": "03e04b41",
   "metadata": {},
   "outputs": [],
   "source": []
  },
  {
   "cell_type": "code",
   "execution_count": null,
   "id": "3190f1b1",
   "metadata": {},
   "outputs": [],
   "source": [
    "#Exercise 25\n",
    "number = int(input(\"enter a number\"))\n",
    "dig = 0\n",
    "num_str = str(number)\n",
    "if type(number) is str:\n",
    "    print(f\"{number} can't be a string\")\n",
    "else :\n",
    "    for i in range(0,len(num_str)+1):\n",
    "        dig = +i\n",
    "print(f\"the number has {dig} digits\")"
   ]
  },
  {
   "cell_type": "code",
   "execution_count": null,
   "id": "266cf1a5",
   "metadata": {},
   "outputs": [],
   "source": []
  }
 ],
 "metadata": {
  "kernelspec": {
   "display_name": "Python 3",
   "language": "python",
   "name": "python3"
  },
  "language_info": {
   "codemirror_mode": {
    "name": "ipython",
    "version": 3
   },
   "file_extension": ".py",
   "mimetype": "text/x-python",
   "name": "python",
   "nbconvert_exporter": "python",
   "pygments_lexer": "ipython3",
   "version": "3.11.9"
  }
 },
 "nbformat": 4,
 "nbformat_minor": 5
}
