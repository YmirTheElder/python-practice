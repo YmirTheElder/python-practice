{
 "cells": [
  {
   "cell_type": "code",
   "execution_count": null,
   "id": "4c66a863",
   "metadata": {},
   "outputs": [],
   "source": []
  },
  {
   "cell_type": "code",
   "execution_count": null,
   "id": "25e147ec",
   "metadata": {},
   "outputs": [],
   "source": [
    "#bilgprog**\n",
    "def backwards(n):\n",
    "    if n <= 0:\n",
    "        print>(\"Durdur\")\n",
    "    else: \n",
    "        print(n)\n",
    "        backwards(n-1)\n",
    "\n"
   ]
  },
  {
   "cell_type": "code",
   "execution_count": null,
   "id": "e11da5dd",
   "metadata": {},
   "outputs": [],
   "source": [
    "#bilgprog**\n",
    "i = int(input(\"i sayısı giriniz : \"))\n",
    "\n",
    "    for i in range (i,0,-1):\n",
    "    print(i)\n"
   ]
  },
  {
   "cell_type": "code",
   "execution_count": null,
   "id": "fe03e667",
   "metadata": {},
   "outputs": [],
   "source": [
    "#Bilg prog **\n",
    "x = int(input(\"lütfen öğrenci notunu giriniz : \"))\n",
    "if not((type(x) == int) and (x <= 100) and (x >= 0)):\n",
    "    print(\"Lütfen geçerli bir sayı giriniz\")\n",
    "else:    \n",
    "    if (x > 0) and (x < 40):\n",
    "        print(\"DD\")\n",
    "    elif (x > 40) and (x < 50):\n",
    "        print(\"DC\")\n",
    "    elif (x > 50) and (x < 60):\n",
    "        print(\"CC\")\n",
    "    elif (x > 60 ) and (x < 70):\n",
    "        print(\"BB\")\n",
    "    elif (x > 70 ) and (x < 85 ):\n",
    "        print(\"BA\")\n",
    "    else: \n",
    "        print(\"AA\")\n",
    " "
   ]
  },
  {
   "cell_type": "code",
   "execution_count": 23,
   "id": "7273e8bf",
   "metadata": {},
   "outputs": [
    {
     "name": "stdout",
     "output_type": "stream",
     "text": [
      "25.95155709342561 fazla kilolu\n"
     ]
    }
   ],
   "source": [
    "\n",
    "boy = float(input(\"lütfen boyu giriniz\"))\n",
    "kilo = int(input(\"lütfen kiloyu giriniz\"))\n",
    "\n",
    "bki = kilo / (boy * boy)\n",
    "if bki <= 18.5 :\n",
    "    print(f\"{bki} zayıftır\")\n",
    "elif (bki>=18.5) and (bki <= 25): \n",
    "    print(f\"{bki} normal\")\n",
    "elif (bki >= 25) and (bki <= 30):\n",
    "    print(f\"{bki} fazla kilolu\")\n",
    "else:\n",
    "    print(f\"{bki} obez\")\n",
    "\n",
    "\n",
    "\n",
    "\n",
    "\n",
    "\n",
    "\n"
   ]
  }
 ],
 "metadata": {
  "kernelspec": {
   "display_name": "Python 3",
   "language": "python",
   "name": "python3"
  },
  "language_info": {
   "codemirror_mode": {
    "name": "ipython",
    "version": 3
   },
   "file_extension": ".py",
   "mimetype": "text/x-python",
   "name": "python",
   "nbconvert_exporter": "python",
   "pygments_lexer": "ipython3",
   "version": "3.11.9"
  }
 },
 "nbformat": 4,
 "nbformat_minor": 5
}
